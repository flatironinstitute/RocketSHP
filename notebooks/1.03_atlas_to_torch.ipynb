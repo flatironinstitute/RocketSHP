{
 "cells": [
  {
   "cell_type": "code",
   "execution_count": 7,
   "metadata": {},
   "outputs": [],
   "source": [
    "import h5py\n",
    "import mdtraj as md\n",
    "import torch\n",
    "from loguru import logger\n",
    "from tqdm import tqdm\n",
    "import matplotlib.pyplot as plt\n",
    "\n",
    "from rocketshp import config"
   ]
  },
  {
   "cell_type": "code",
   "execution_count": 8,
   "metadata": {},
   "outputs": [],
   "source": [
    "ATLAS_DATA_DIR = config.RAW_DATA_DIR / \"atlas\"\n",
    "ATLAS_PROCESSED_DATA_DIR = config.PROCESSED_DATA_DIR / \"atlas\""
   ]
  },
  {
   "cell_type": "code",
   "execution_count": 12,
   "metadata": {},
   "outputs": [
    {
     "name": "stderr",
     "output_type": "stream",
     "text": [
      "/home/ssledzieski/miniforge3/envs/torch/lib/python3.11/site-packages/transformers/utils/hub.py:128: FutureWarning: Using `TRANSFORMERS_CACHE` is deprecated and will be removed in v5 of Transformers. Use `HF_HOME` instead.\n",
      "  warnings.warn(\n"
     ]
    }
   ],
   "source": [
    "from rocketshp.dataset import ATLASDataModule, ATLASDataset, _unstack_variable_length_tensors"
   ]
  },
  {
   "cell_type": "code",
   "execution_count": 13,
   "metadata": {},
   "outputs": [],
   "source": [
    "adl = ATLASDataModule(ATLAS_PROCESSED_DATA_DIR / \"atlas_processed.h5\", seq_features=True, struct_features=True, batch_size=5, num_workers=0, train_pct=0.8, val_pct=0.1, random_seed=0)\n",
    "adl.setup(\"train\")\n",
    "ads = adl.dataset"
   ]
  },
  {
   "cell_type": "code",
   "execution_count": 14,
   "metadata": {},
   "outputs": [
    {
     "data": {
      "text/plain": [
       "(3360, 396, 411)"
      ]
     },
     "execution_count": 14,
     "metadata": {},
     "output_type": "execute_result"
    }
   ],
   "source": [
    "len(adl.train_data), len(adl.val_data), len(adl.test_data)"
   ]
  },
  {
   "cell_type": "code",
   "execution_count": 17,
   "metadata": {},
   "outputs": [],
   "source": [
    "batch = [adl.dataset[0], adl.dataset[1], adl.dataset[2], adl.dataset[3]]"
   ]
  },
  {
   "cell_type": "code",
   "execution_count": 23,
   "metadata": {},
   "outputs": [],
   "source": [
    "x,l,y = _dict_collate_fn(batch)"
   ]
  },
  {
   "cell_type": "code",
   "execution_count": 29,
   "metadata": {},
   "outputs": [
    {
     "ename": "AttributeError",
     "evalue": "'dict' object has no attribute 'shape'",
     "output_type": "error",
     "traceback": [
      "\u001b[0;31m---------------------------------------------------------------------------\u001b[0m",
      "\u001b[0;31mAttributeError\u001b[0m                            Traceback (most recent call last)",
      "Cell \u001b[0;32mIn[29], line 1\u001b[0m\n\u001b[0;32m----> 1\u001b[0m x[\u001b[38;5;124m\"\u001b[39m\u001b[38;5;124mseq_feats\u001b[39m\u001b[38;5;124m\"\u001b[39m]\u001b[38;5;241m.\u001b[39mshape, x[\u001b[38;5;124m\"\u001b[39m\u001b[38;5;124mstruct_feats\u001b[39m\u001b[38;5;124m\"\u001b[39m]\u001b[38;5;241m.\u001b[39mshape, \u001b[43ml\u001b[49m\u001b[38;5;241;43m.\u001b[39;49m\u001b[43mshape\u001b[49m\n",
      "\u001b[0;31mAttributeError\u001b[0m: 'dict' object has no attribute 'shape'"
     ]
    }
   ],
   "source": [
    "x[\"seq_feats\"].shape, x[\"struct_feats\"].shape, l.shape"
   ]
  },
  {
   "cell_type": "code",
   "execution_count": 30,
   "metadata": {},
   "outputs": [],
   "source": [
    "from rocketshp.dataset import _stack_variable_length_tensors\n",
    "\n",
    "def _dict_collate_fn(batch):\n",
    "    \"\"\"\n",
    "    Custom collate function for batching variable length sequences.\n",
    "    \n",
    "    Args:\n",
    "        batch: List of tuples (features_dict, labels_dict) from the dataset\n",
    "        \n",
    "    Returns:\n",
    "        features_dict: Dictionary of padded feature tensors\n",
    "        labels_dict: Dictionary of label tensors\n",
    "        lengths: Tensor of sequence lengths\n",
    "    \"\"\"\n",
    "    # Separate features and labels\n",
    "    features, labels = zip(*batch)\n",
    "    \n",
    "    # Get sequence lengths (assuming all features have same length)\n",
    "    lengths = torch.tensor([next(iter(feat.values())).shape[0] for feat in features])\n",
    "    \n",
    "    # Initialize output dictionaries\n",
    "    padded_features = {}\n",
    "    padded_labels = {}\n",
    "    \n",
    "    # Pad and stack features\n",
    "    for key in features[0].keys():\n",
    "        sequences = [feat[key] for feat in features]\n",
    "        padded_features[key] = _stack_variable_length_tensors(sequences)\n",
    "    \n",
    "    # Stack labels (assuming they don't need padding)\n",
    "    for key in labels[0].keys():\n",
    "        label_tensors = [label[key] for label in labels]\n",
    "        padded_labels[key] = _stack_variable_length_tensors(label_tensors)\n",
    "    \n",
    "    return padded_features, lengths, padded_labels"
   ]
  },
  {
   "cell_type": "code",
   "execution_count": 7,
   "metadata": {},
   "outputs": [],
   "source": [
    "from rocketshp.modeling.architectures import StructEncoder, SeqEncoder, JointStructAndSequenceEncoder, FlexibilityModel"
   ]
  },
  {
   "cell_type": "code",
   "execution_count": 41,
   "metadata": {},
   "outputs": [],
   "source": [
    "# fm = FlexibilityModel(1536, 1, 128, 8, 4)\n",
    "# fm.train()\n",
    "\n",
    "# loss_fn = torch.nn.MSELoss()\n",
    "\n",
    "# losses = []\n",
    "# optimizer = torch.optim.Adam(fm.parameters(), lr=1e-3)\n",
    "# for epoch in range(1):\n",
    "#     # logger.info(f\"Epoch {epoch}\")\n",
    "#     for batch in tqdm(adl.train_dataloader(),leave=False):\n",
    "#         (seq, struct), mask, y = batch\n",
    "#         y_hat = fm((seq, struct))\n",
    "#         loss = compute_masked_mse_loss(y_hat, y.unsqueeze(2), mask)\n",
    "#         losses.append(loss.item())\n",
    "#         optimizer.zero_grad()\n",
    "#         loss.backward()\n",
    "#         optimizer.step()"
   ]
  },
  {
   "cell_type": "code",
   "execution_count": 42,
   "metadata": {},
   "outputs": [],
   "source": [
    "import torch\n",
    "\n",
    "def load_checkpoint(chkpt):\n",
    "    \"\"\"\n",
    "    FlexibilityModel(1536, 1, 128, 8, 4)\n",
    "    \"\"\"\n",
    "    chk = torch.load(chkpt)\n",
    "    hp = chk[\"hyper_parameters\"]\n",
    "    state_dict = {}\n",
    "    fm = FlexibilityModel(hp[\"embedding_dim\"], hp[\"output_dim\"], hp[\"d_model\"], hp[\"n_heads\"], hp[\"n_layers\"])\n",
    "    for k,v in chk[\"state_dict\"].items():\n",
    "        new_k = k.replace(\"child_model.\",\"\")\n",
    "        state_dict[new_k] = v\n",
    "    fm.load_state_dict(state_dict)\n",
    "    fm.eval()\n",
    "    return fm\n"
   ]
  },
  {
   "cell_type": "code",
   "execution_count": 43,
   "metadata": {},
   "outputs": [
    {
     "name": "stderr",
     "output_type": "stream",
     "text": [
      "/tmp/ipykernel_3885106/3689996144.py:7: FutureWarning: You are using `torch.load` with `weights_only=False` (the current default value), which uses the default pickle module implicitly. It is possible to construct malicious pickle data which will execute arbitrary code during unpickling (See https://github.com/pytorch/pytorch/blob/main/SECURITY.md#untrusted-models for more details). In a future release, the default value for `weights_only` will be flipped to `True`. This limits the functions that could be executed during unpickling. Arbitrary objects will no longer be allowed to be loaded via this mode unless they are explicitly allowlisted by the user via `torch.serialization.add_safe_globals`. We recommend you start setting `weights_only=True` for any use case where you don't have full control of the loaded file. Please open an issue on GitHub for any issues related to this experimental feature.\n",
      "  chk = torch.load(chkpt)\n"
     ]
    }
   ],
   "source": [
    "# fmnew = load_checkpoint(\"/mnt/home/ssledzieski/Projects/rocketshp/checkpoints/rmsf_full_02/model-epoch=04-train_loss=0.05.pt.ckpt\")\n",
    "# fmnew = load_checkpoint(\"/mnt/home/ssledzieski/Projects/rocketshp/checkpoints/nepTest2/model-epoch=19-train_loss=0.01.pt.ckpt\")\n",
    "fmnew = load_checkpoint(\"/mnt/home/ssledzieski/Projects/rocketshp/checkpoints/rmsf_full_04/model-epoch=16-train_loss=0.01.pt.ckpt\")"
   ]
  },
  {
   "cell_type": "code",
   "execution_count": 44,
   "metadata": {},
   "outputs": [
    {
     "name": "stderr",
     "output_type": "stream",
     "text": [
      "/tmp/ipykernel_3885106/2199911354.py:1: FutureWarning: You are using `torch.load` with `weights_only=False` (the current default value), which uses the default pickle module implicitly. It is possible to construct malicious pickle data which will execute arbitrary code during unpickling (See https://github.com/pytorch/pytorch/blob/main/SECURITY.md#untrusted-models for more details). In a future release, the default value for `weights_only` will be flipped to `True`. This limits the functions that could be executed during unpickling. Arbitrary objects will no longer be allowed to be loaded via this mode unless they are explicitly allowlisted by the user via `torch.serialization.add_safe_globals`. We recommend you start setting `weights_only=True` for any use case where you don't have full control of the loaded file. Please open an issue on GitHub for any issues related to this experimental feature.\n",
      "  ckpt = torch.load(\"/mnt/home/ssledzieski/Projects/rocketshp/checkpoints/rmsf_full_04/model-epoch=16-train_loss=0.01.pt.ckpt\")\n"
     ]
    }
   ],
   "source": [
    "ckpt = torch.load(\"/mnt/home/ssledzieski/Projects/rocketshp/checkpoints/rmsf_full_04/model-epoch=16-train_loss=0.01.pt.ckpt\")"
   ]
  },
  {
   "cell_type": "code",
   "execution_count": null,
   "metadata": {},
   "outputs": [
    {
     "data": {
      "text/plain": [
       "{'num_parameters': 16793601,\n",
       " 'batch_size': 8,\n",
       " 'lr': 0.001,\n",
       " 'max_epochs': 20,\n",
       " 'num_data_workers': 31,\n",
       " 'shuffle': True,\n",
       " 'precision': 'highest',\n",
       " 'embedding_dim': 1536,\n",
       " 'output_dim': 1,\n",
       " 'd_model': 512,\n",
       " 'n_heads': 8,\n",
       " 'n_layers': 4}"
      ]
     },
     "execution_count": 47,
     "metadata": {},
     "output_type": "execute_result"
    },
    {
     "ename": "",
     "evalue": "",
     "output_type": "error",
     "traceback": [
      "\u001b[1;31mThe Kernel crashed while executing code in the current cell or a previous cell. \n",
      "\u001b[1;31mPlease review the code in the cell(s) to identify a possible cause of the failure. \n",
      "\u001b[1;31mClick <a href='https://aka.ms/vscodeJupyterKernelCrash'>here</a> for more info. \n",
      "\u001b[1;31mView Jupyter <a href='command:jupyter.viewOutput'>log</a> for further details."
     ]
    }
   ],
   "source": [
    "ckpt[\"hyper_parameters\"]"
   ]
  },
  {
   "cell_type": "code",
   "execution_count": 9,
   "metadata": {},
   "outputs": [],
   "source": [
    "from dataclasses import dataclass\n",
    "from pathlib import Path\n",
    "import omegaconf\n",
    "@dataclass\n",
    "class PARAMETERS:\n",
    "    batch_size: int = 64\n",
    "    lr: float = 0.007\n",
    "    max_epochs: int = 20\n",
    "    num_data_workers: int = 31\n",
    "    shuffle: bool = True\n",
    "    precision: str = \"highest\"\n",
    "    num_parameters: int = 0\n",
    "\n",
    "p = PARAMETERS()\n",
    "config = omegaconf.OmegaConf.create(p)\n",
    "newp = omegaconf.OmegaConf.load(\"../configs/config.yml\")\n",
    "config.update(newp)\n"
   ]
  },
  {
   "cell_type": "code",
   "execution_count": 10,
   "metadata": {},
   "outputs": [
    {
     "data": {
      "text/plain": [
       "(4167, 3333, 414, 420)"
      ]
     },
     "execution_count": 10,
     "metadata": {},
     "output_type": "execute_result"
    }
   ],
   "source": [
    "len(adl.dataset), len(adl.train_data), len(adl.val_data), len(adl.test_data)"
   ]
  },
  {
   "cell_type": "code",
   "execution_count": 11,
   "metadata": {},
   "outputs": [],
   "source": [
    "import torch.nn as nn"
   ]
  },
  {
   "cell_type": "code",
   "execution_count": 16,
   "metadata": {},
   "outputs": [
    {
     "name": "stdout",
     "output_type": "stream",
     "text": [
      "\u001b[32m2024-11-22 09:51:06.024\u001b[0m | \u001b[1mINFO    \u001b[0m | \u001b[36m__main__\u001b[0m:\u001b[36m<module>\u001b[0m:\u001b[36m25\u001b[0m - \u001b[1mProtein: 1a62_A/R3\u001b[0m\n",
      "\u001b[32m2024-11-22 09:51:06.025\u001b[0m | \u001b[1mINFO    \u001b[0m | \u001b[36m__main__\u001b[0m:\u001b[36m<module>\u001b[0m:\u001b[36m26\u001b[0m - \u001b[1mSpearman: SignificanceResult(statistic=0.8368788321566591, pvalue=2.662070853611465e-35)\u001b[0m\n",
      "\u001b[32m2024-11-22 09:51:06.025\u001b[0m | \u001b[1mINFO    \u001b[0m | \u001b[36m__main__\u001b[0m:\u001b[36m<module>\u001b[0m:\u001b[36m27\u001b[0m - \u001b[1mPearson: PearsonRResult(statistic=0.9803972753078369, pvalue=0.0)\u001b[0m\n",
      "\u001b[32m2024-11-22 09:51:06.025\u001b[0m | \u001b[1mINFO    \u001b[0m | \u001b[36m__main__\u001b[0m:\u001b[36m<module>\u001b[0m:\u001b[36m28\u001b[0m - \u001b[1mMSE: 0.0027947674971073866\u001b[0m\n"
     ]
    },
    {
     "data": {
      "image/png": "[encoded data removed]",
      "text/plain": [
       "<Figure size 640x480 with 1 Axes>"
      ]
     },
     "metadata": {},
     "output_type": "display_data"
    }
   ],
   "source": [
    "SAMPLE_I = 5\n",
    "\n",
    "def normalize(x):\n",
    "    return (x - x.min()) / (x.max() - x.min())\n",
    "\n",
    "f, rmsf = adl.train_data[SAMPLE_I]\n",
    "key = adl.dataset.samples[adl.train_data.indices[SAMPLE_I]]\n",
    "with torch.no_grad():\n",
    "        yhat_both = fmnew([x.unsqueeze(0) for x in f]).squeeze()\n",
    "        yhat_seqonly = fmnew((f[0].unsqueeze(0), torch.zeros_like(f[1]).unsqueeze(0))).squeeze()\n",
    "\n",
    "bf_both = yhat_both.detach().cpu().numpy().squeeze()\n",
    "bf_seqonly = yhat_seqonly.detach().cpu().numpy().squeeze()\n",
    "\n",
    "plt.plot(rmsf,label=\"rmsf\")\n",
    "plt.plot(bf_both,label=\"predicted\")\n",
    "plt.plot(bf_seqonly,label=\"predicted seq only\")\n",
    "plt.legend()\n",
    "\n",
    "\n",
    "from scipy.stats import spearmanr, pearsonr\n",
    "spearman = spearmanr(rmsf, bf_both)\n",
    "pearson = pearsonr(rmsf, bf_both)\n",
    "mse = ((rmsf - bf_both)**2).mean()\n",
    "logger.info(f\"Protein: {key}\")\n",
    "logger.info(f\"Spearman: {spearman}\")\n",
    "logger.info(f\"Pearson: {pearson}\")\n",
    "logger.info(f\"MSE: {mse}\")\n",
    "\n",
    "plt.show()"
   ]
  },
  {
   "cell_type": "code",
   "execution_count": 25,
   "metadata": {},
   "outputs": [],
   "source": [
    "import mdtraj as md\n",
    "import nglview as nv"
   ]
  },
  {
   "cell_type": "code",
   "execution_count": 26,
   "metadata": {},
   "outputs": [],
   "source": [
    "pdb_code, rep = key.split(\"/\")\n",
    "traj = md.load_xtc(ATLAS_DATA_DIR / f\"{pdb_code[:2]}/{pdb_code}_prod_{rep}_fit.xtc\", top=ATLAS_DATA_DIR / f\"{pdb_code[:2]}/{pdb_code}.pdb\")"
   ]
  },
  {
   "cell_type": "code",
   "execution_count": 29,
   "metadata": {},
   "outputs": [
    {
     "data": {
      "application/vnd.jupyter.widget-view+json": {
       "model_id": "8024f11659e8493b9c7dcc6cec816439",
       "version_major": 2,
       "version_minor": 0
      },
      "text/plain": [
       "NGLWidget(max_frame=10000)"
      ]
     },
     "metadata": {},
     "output_type": "display_data"
    }
   ],
   "source": [
    "from rocketshp.plot import display_trajectory, value_to_hex\n",
    "import nglview as nv\n",
    "\n",
    "\n",
    "view = display_trajectory(traj, bfactor=bf_both, coloring=\"bfactor\", normalize=True)\n",
    "view"
   ]
  },
  {
   "cell_type": "code",
   "execution_count": null,
   "metadata": {},
   "outputs": [],
   "source": []
  }
 ],
 "metadata": {
  "kernelspec": {
   "display_name": "torch",
   "language": "python",
   "name": "python3"
  },
  "language_info": {
   "codemirror_mode": {
    "name": "ipython",
    "version": 3
   },
   "file_extension": ".py",
   "mimetype": "text/x-python",
   "name": "python",
   "nbconvert_exporter": "python",
   "pygments_lexer": "ipython3",
   "version": "3.11.10"
  }
 },
 "nbformat": 4,
 "nbformat_minor": 2
}
