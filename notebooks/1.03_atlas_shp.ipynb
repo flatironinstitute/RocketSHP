{
 "cells": [
  {
   "cell_type": "code",
   "execution_count": 1,
   "metadata": {},
   "outputs": [
    {
     "name": "stderr",
     "output_type": "stream",
     "text": [
      "\u001b[32m2025-01-13 12:23:03.170\u001b[0m | \u001b[1mINFO    \u001b[0m | \u001b[36mrocketshp.config\u001b[0m:\u001b[36m<module>\u001b[0m:\u001b[36m13\u001b[0m - \u001b[1mPROJ_ROOT path is: /mnt/home/ssledzieski/Projects/rocketshp\u001b[0m\n"
     ]
    },
    {
     "data": {
      "application/vnd.jupyter.widget-view+json": {
       "model_id": "37b39c217bce4f6cbb363f523145784c",
       "version_major": 2,
       "version_minor": 0
      },
      "text/plain": []
     },
     "metadata": {},
     "output_type": "display_data"
    },
    {
     "name": "stderr",
     "output_type": "stream",
     "text": [
      "/home/ssledzieski/miniforge3/envs/torch/lib/python3.11/site-packages/transformers/utils/hub.py:128: FutureWarning: Using `TRANSFORMERS_CACHE` is deprecated and will be removed in v5 of Transformers. Use `HF_HOME` instead.\n",
      "  warnings.warn(\n"
     ]
    }
   ],
   "source": [
    "import matplotlib.pyplot as plt\n",
    "import mdtraj as md\n",
    "import numpy as np\n",
    "import torch\n",
    "from tqdm import tqdm\n",
    "\n",
    "from rocketshp import config"
   ]
  },
  {
   "cell_type": "code",
   "execution_count": 2,
   "metadata": {},
   "outputs": [],
   "source": [
    "data_dir = config.RAW_DATA_DIR / \"atlas\"\n",
    "meta_dir = config.RAW_DATA_DIR / \"atlas_meta\"\n",
    "\n",
    "import glob\n",
    "\n",
    "file_list = glob.glob(f\"{data_dir}/*/*protein.zip\")\n",
    "protein_list = [\"_\".join(f.split(\"/\")[-1].split(\"_\")[:2]) for f in file_list]"
   ]
  },
  {
   "cell_type": "code",
   "execution_count": 62,
   "metadata": {},
   "outputs": [
    {
     "data": {
      "text/plain": [
       "['1lri_A',\n",
       " '1l9l_A',\n",
       " '1lc3_A',\n",
       " '1l5o_A',\n",
       " '1lfp_A',\n",
       " '1l2p_A',\n",
       " '1l2w_I',\n",
       " '1lwd_B',\n",
       " '1lj5_A',\n",
       " '1lr0_A']"
      ]
     },
     "execution_count": 62,
     "metadata": {},
     "output_type": "execute_result"
    }
   ],
   "source": [
    "protein_list[:10]"
   ]
  },
  {
   "cell_type": "code",
   "execution_count": 4,
   "metadata": {},
   "outputs": [],
   "source": [
    "def slice_trajectory(traj, start=0, end=None, step=1):\n",
    "    if end is not None:\n",
    "        return traj[start:end:step]\n",
    "    else:\n",
    "        return traj[start::step]\n",
    "\n",
    "def slice_trajectory_tensor(xyz, start, end, step=1):\n",
    "    return xyz[start:end:step, :, :]\n"
   ]
  },
  {
   "cell_type": "code",
   "execution_count": 32,
   "metadata": {},
   "outputs": [],
   "source": []
  },
  {
   "cell_type": "code",
   "execution_count": 64,
   "metadata": {},
   "outputs": [
    {
     "data": {
      "text/plain": [
       "['1lri_A',\n",
       " '1l9l_A',\n",
       " '1lc3_A',\n",
       " '1l5o_A',\n",
       " '1lfp_A',\n",
       " '1l2p_A',\n",
       " '1l2w_I',\n",
       " '1lwd_B',\n",
       " '1lj5_A',\n",
       " '1lr0_A']"
      ]
     },
     "execution_count": 64,
     "metadata": {},
     "output_type": "execute_result"
    }
   ],
   "source": [
    "protein_list[:10]"
   ]
  },
  {
   "cell_type": "code",
   "execution_count": 69,
   "metadata": {},
   "outputs": [
    {
     "name": "stderr",
     "output_type": "stream",
     "text": [
      "  0%|          | 0/10 [00:00<?, ?it/s]/home/ssledzieski/miniforge3/envs/torch/lib/python3.11/site-packages/esm/models/vqvae.py:289: FutureWarning: `torch.cuda.amp.autocast(args...)` is deprecated. Please use `torch.amp.autocast('cuda', args...)` instead.\n",
      "  with torch.no_grad(), torch.cuda.amp.autocast(enabled=False):  # type: ignore\n",
      "1001it [00:13, 76.50it/s]                         \n",
      "1001it [00:10, 91.07it/s]                         \n",
      "1001it [00:34, 29.08it/s]                         \n",
      "1001it [00:38, 25.96it/s]                         \n",
      "1001it [00:29, 33.42it/s]                         \n",
      "1001it [00:09, 109.06it/s]22<02:43, 32.68s/it]\n",
      "1001it [00:09, 101.67it/s]                        \n",
      "1001it [00:46, 21.39it/s]                         \n",
      "1001it [00:44, 22.63it/s]:15<01:13, 36.70s/it]\n",
      "1001it [00:16, 59.00it/s]                         \n",
      "100%|██████████| 10/10 [05:23<00:00, 32.32s/it]\n"
     ]
    }
   ],
   "source": [
    "from rocketshp.esm3 import _get_structure_vae, _get_tokenizers, struct_tokenize_frame\n",
    "\n",
    "stride = 10\n",
    "\n",
    "device = torch.device(\"cuda:0\")\n",
    "encoder = _get_structure_vae()[0]\n",
    "tokenizer = _get_tokenizers().structure\n",
    "encoder = encoder.to(device)\n",
    "\n",
    "all_toks = {}\n",
    "\n",
    "for pil in tqdm(protein_list[:10]):\n",
    "\n",
    "    traj = md.load_xtc(data_dir / pil[:2] / f\"{pil}_prod_R1_fit.xtc\", top=data_dir / pil[:2] / f\"{pil}.pdb\")\n",
    "    traj.center_coordinates()\n",
    "    traj = traj.superpose(traj, 0)\n",
    "\n",
    "    struct_toks = []\n",
    "    with torch.inference_mode():\n",
    "        for f in tqdm(slice_trajectory(traj, 0, None, stride), total = len(traj) // stride):\n",
    "            struct_toks.append(\n",
    "                struct_tokenize_frame(f, encoder, tokenizer, device)\n",
    "            )\n",
    "        struct_toks = torch.stack(struct_toks)\n",
    "    all_toks[pil] = struct_toks.cpu().numpy()"
   ]
  },
  {
   "cell_type": "code",
   "execution_count": 42,
   "metadata": {},
   "outputs": [],
   "source": [
    "def normalize_sum(x):\n",
    "    return x / x.sum()"
   ]
  },
  {
   "cell_type": "code",
   "execution_count": 50,
   "metadata": {},
   "outputs": [
    {
     "data": {
      "text/plain": [
       "tensor(0.6354)"
      ]
     },
     "execution_count": 50,
     "metadata": {},
     "output_type": "execute_result"
    }
   ],
   "source": [
    "normalize_sum(torch.bincount(struct_toks[:,0].cpu(),minlength=4096)).max()"
   ]
  },
  {
   "cell_type": "code",
   "execution_count": null,
   "metadata": {},
   "outputs": [],
   "source": []
  },
  {
   "cell_type": "code",
   "execution_count": null,
   "metadata": {},
   "outputs": [
    {
     "ename": "NameError",
     "evalue": "name 'plt' is not defined",
     "output_type": "error",
     "traceback": [
      "\u001b[0;31m---------------------------------------------------------------------------\u001b[0m",
      "\u001b[0;31mNameError\u001b[0m                                 Traceback (most recent call last)",
      "Cell \u001b[0;32mIn[1], line 1\u001b[0m\n\u001b[0;32m----> 1\u001b[0m \u001b[43mplt\u001b[49m\u001b[38;5;241m.\u001b[39mimshow(normalize_sum(torch\u001b[38;5;241m.\u001b[39mfrom_numpy(all_toks[protein_list[\u001b[38;5;241m4\u001b[39m]])))\n\u001b[1;32m      2\u001b[0m plt\u001b[38;5;241m.\u001b[39mshow()\n",
      "\u001b[0;31mNameError\u001b[0m: name 'plt' is not defined"
     ]
    }
   ],
   "source": [
    "plt.imshow(normalize_sum(torch.from_numpy(all_toks[protein_list[4]].T)))\n",
    "plt.show()"
   ]
  },
  {
   "cell_type": "code",
   "execution_count": 99,
   "metadata": {},
   "outputs": [
    {
     "data": {
      "text/plain": [
       "tensor([0.0480, 0.0689, 0.0130, 0.0460, 0.0490, 0.2248, 0.0120, 0.0070, 0.0130,\n",
       "        0.0170, 0.0250, 0.1838, 0.0749, 0.0120, 0.0200, 0.1329, 0.0310])"
      ]
     },
     "execution_count": 99,
     "metadata": {},
     "output_type": "execute_result"
    }
   ],
   "source": [
    "ns[ns > 0.005]"
   ]
  },
  {
   "cell_type": "code",
   "execution_count": 93,
   "metadata": {},
   "outputs": [
    {
     "data": {
      "image/png": "[encoded data removed]",
      "text/plain": [
       "<Figure size 1500x1000 with 1 Axes>"
      ]
     },
     "metadata": {},
     "output_type": "display_data"
    }
   ],
   "source": [
    "fig,ax = plt.subplots(1,1,figsize=(15,10))\n",
    "\n",
    "for k,v in all_toks.items():\n",
    "    ns = normalize_sum(torch.bincount(torch.from_numpy(v)[:,0],minlength=4096))\n",
    "\n",
    "    plt.plot(np.arange(4096),ns, label=k)\n",
    "plt.legend()\n",
    "plt.show()"
   ]
  }
 ],
 "metadata": {
  "kernelspec": {
   "display_name": "torch",
   "language": "python",
   "name": "python3"
  },
  "language_info": {
   "codemirror_mode": {
    "name": "ipython",
    "version": 3
   },
   "file_extension": ".py",
   "mimetype": "text/x-python",
   "name": "python",
   "nbconvert_exporter": "python",
   "pygments_lexer": "ipython3",
   "version": "3.11.10"
  }
 },
 "nbformat": 4,
 "nbformat_minor": 2
}
