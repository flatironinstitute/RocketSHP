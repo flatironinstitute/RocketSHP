{
 "cells": [
  {
   "cell_type": "code",
   "execution_count": 9,
   "id": "8b86c060-41bd-46b6-86a0-73959d62e34b",
   "metadata": {},
   "outputs": [],
   "source": [
    "from tqdm.notebook import tqdm\n",
    "\n",
    "from rocketshp import config"
   ]
  },
  {
   "cell_type": "code",
   "execution_count": 10,
   "id": "3651116f-eb9c-4168-bf02-121f906f4eca",
   "metadata": {},
   "outputs": [],
   "source": [
    "from pathlib import Path"
   ]
  },
  {
   "cell_type": "code",
   "execution_count": 14,
   "id": "c5236da3",
   "metadata": {},
   "outputs": [
    {
     "name": "stdout",
     "output_type": "stream",
     "text": [
      "\u001b[0;31mType:\u001b[0m        str\n",
      "\u001b[0;31mString form:\u001b[0m 348\n",
      "\u001b[0;31mLength:\u001b[0m      3\n",
      "\u001b[0;31mDocstring:\u001b[0m  \n",
      "str(object='') -> str\n",
      "str(bytes_or_buffer[, encoding[, errors]]) -> str\n",
      "\n",
      "Create a new string object from the given object. If encoding or\n",
      "errors is specified, then the object must expose a data buffer\n",
      "that will be decoded using the given encoding and error handler.\n",
      "Otherwise, returns the result of object.__str__() (if defined)\n",
      "or repr(object).\n",
      "encoding defaults to sys.getdefaultencoding().\n",
      "errors defaults to 'strict'."
     ]
    }
   ],
   "source": [
    "TEMP?"
   ]
  },
  {
   "cell_type": "code",
   "execution_count": 12,
   "id": "a6618c9a-c9b1-4130-a195-441a861f21db",
   "metadata": {},
   "outputs": [],
   "source": [
    "MDCATH_DIR = Path(f\"{config.RAW_DATA_DIR}/mdcath\")\n",
    "TEMP = \"348\"\n",
    "REPL = \"0\""
   ]
  },
  {
   "cell_type": "code",
   "execution_count": null,
   "id": "be1c7656",
   "metadata": {},
   "outputs": [],
   "source": []
  },
  {
   "cell_type": "code",
   "execution_count": 19,
   "id": "c5b3987d-5995-4588-b78b-107076b7ed13",
   "metadata": {},
   "outputs": [
    {
     "data": {
      "application/vnd.jupyter.widget-view+json": {
       "model_id": "3fcd5df3a10f404388052ef5ddcf798c",
       "version_major": 2,
       "version_minor": 0
      },
      "text/plain": [
       "  0%|          | 0/10 [00:00<?, ?it/s]"
      ]
     },
     "metadata": {},
     "output_type": "display_data"
    }
   ],
   "source": [
    "i =0\n",
    "with open(f\"{config.PROJ_ROOT}/scripts/mdcath_to_foldseek.tasks.txt\",\"w+\") as f:\n",
    "    mdcath_files = list(MDCATH_DIR.glob(\"mdcath_dataset*.h5\"))\n",
    "    for fi in tqdm(mdcath_files):\n",
    "        domain = fi.stem.split(\"_\")[-1]\n",
    "        f.write(f\"source {config.PROJ_ROOT}/scripts/mdcath_to_foldseek.sh {domain} {domain}\\n\")\n"
   ]
  },
  {
   "cell_type": "markdown",
   "id": "3ccd4a79",
   "metadata": {},
   "source": [
    "```\n",
    "sbatch -n 25 -c 4 disBatch scripts/mdcath_to_foldseek.tasks.txt\n",
    "```"
   ]
  },
  {
   "cell_type": "markdown",
   "id": "518af443",
   "metadata": {},
   "source": []
  }
 ],
 "metadata": {
  "kernelspec": {
   "display_name": "rocketshp",
   "language": "python",
   "name": "python3"
  },
  "language_info": {
   "codemirror_mode": {
    "name": "ipython",
    "version": 3
   },
   "file_extension": ".py",
   "mimetype": "text/x-python",
   "name": "python",
   "nbconvert_exporter": "python",
   "pygments_lexer": "ipython3",
   "version": "3.11.10"
  }
 },
 "nbformat": 4,
 "nbformat_minor": 5
}
