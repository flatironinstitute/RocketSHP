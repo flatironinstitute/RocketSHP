{
 "cells": [
  {
   "cell_type": "code",
   "execution_count": 1,
   "id": "2592a87e-f87c-40a9-8cdc-5ff7ab658f64",
   "metadata": {},
   "outputs": [
    {
     "name": "stderr",
     "output_type": "stream",
     "text": [
      "\u001b[32m2024-09-23 15:28:50.838\u001b[0m | \u001b[1mINFO    \u001b[0m | \u001b[36mrocketshp.config\u001b[0m:\u001b[36m<module>\u001b[0m:\u001b[36m11\u001b[0m - \u001b[1mPROJ_ROOT path is: /mnt/home/ssledzieski/Projects/rocketshp\u001b[0m\n"
     ]
    }
   ],
   "source": []
  },
  {
   "cell_type": "code",
   "execution_count": 2,
   "id": "36a88f91-162b-4643-b5b5-65f5620630d0",
   "metadata": {
    "tags": []
   },
   "outputs": [
    {
     "data": {
      "application/vnd.jupyter.widget-view+json": {
       "model_id": "af3116bc84574800a61738fc806d255f",
       "version_major": 2,
       "version_minor": 0
      },
      "text/plain": []
     },
     "metadata": {},
     "output_type": "display_data"
    }
   ],
   "source": [
    "import glob\n",
    "\n",
    "import mdtraj as md\n",
    "import nglview as nv\n",
    "import numpy as np"
   ]
  },
  {
   "cell_type": "code",
   "execution_count": 4,
   "id": "7d28e6f1-fabd-4707-bb6c-5351b4b1730f",
   "metadata": {
    "tags": []
   },
   "outputs": [],
   "source": [
    "pdb_files = glob.glob(f\"./ensembles/{PDB_ID}/{PDB_ID}_*.pdb\")"
   ]
  },
  {
   "cell_type": "code",
   "execution_count": null,
   "id": "ce38e928-c7d5-4780-9496-7ab8145247c4",
   "metadata": {},
   "outputs": [],
   "source": []
  },
  {
   "cell_type": "code",
   "execution_count": 5,
   "id": "5cccf4c3-8ad6-46b1-a52d-588e9768415a",
   "metadata": {
    "tags": []
   },
   "outputs": [],
   "source": [
    "traj = md.load(pdb_files)"
   ]
  },
  {
   "cell_type": "code",
   "execution_count": 6,
   "id": "f6b611fd-1081-47ad-9155-39cbba6ef4ae",
   "metadata": {
    "tags": []
   },
   "outputs": [
    {
     "data": {
      "text/plain": [
       "<mdtraj.Trajectory with 49 frames, 2265 atoms, 307 residues, without unitcells at 0x7f6e3b3efe50>"
      ]
     },
     "execution_count": 6,
     "metadata": {},
     "output_type": "execute_result"
    }
   ],
   "source": [
    "traj"
   ]
  },
  {
   "cell_type": "code",
   "execution_count": 7,
   "id": "c01fd379-e14f-45ca-b5e1-394c138d32f1",
   "metadata": {},
   "outputs": [],
   "source": [
    "from Bio.PDB import PDBParser\n",
    "\n",
    "parser = PDBParser()\n",
    "\n",
    "struct = parser.get_structure(\"A0QT50\", \"./ensembles/A0QT50_1/A0QT50_1_0.pdb\")"
   ]
  },
  {
   "cell_type": "code",
   "execution_count": 8,
   "id": "26cf9b16-e89b-4072-9ef7-d83283b80dba",
   "metadata": {},
   "outputs": [],
   "source": [
    "fi_entropy = np.load(\"./ensembles/A0QT50_1/foldmason.fasta_3di.entropy.npy\")"
   ]
  },
  {
   "cell_type": "code",
   "execution_count": 9,
   "id": "050b7396-a658-487a-b5f1-6b2a0c047b95",
   "metadata": {},
   "outputs": [],
   "source": [
    "for c, bf in zip(struct[0][\"A\"].child_list, fi_entropy):\n",
    "    for at in c.child_list:\n",
    "        at.bfactor = 1 - bf"
   ]
  },
  {
   "cell_type": "code",
   "execution_count": 10,
   "id": "af6c00c3",
   "metadata": {},
   "outputs": [],
   "source": [
    "import statistics\n",
    "\n",
    "from Bio.PDB import PDBParser, Residue, Structure\n",
    "from matplotlib import colormaps\n",
    "from matplotlib.colors import Normalize\n",
    "\n",
    "CHAIN_COLORS = [\n",
    "    \"#1f77b4\",\n",
    "    \"#ff7f0e\",\n",
    "    \"#2ca02c\",\n",
    "    \"#d62728\",\n",
    "    \"#9467bd\",\n",
    "    \"#8c564b\",\n",
    "    \"#e377c2\",\n",
    "    \"#7f7f7f\",\n",
    "    \"#bcbd22\",\n",
    "    \"#17becf\",\n",
    "]\n",
    "AMINO_ACIDS = [\n",
    "    \"ALA\",\n",
    "    \"ARG\",\n",
    "    \"ASN\",\n",
    "    \"ASP\",\n",
    "    \"CYS\",\n",
    "    \"GLN\",\n",
    "    \"GLU\",\n",
    "    \"GLY\",\n",
    "    \"HIS\",\n",
    "    \"ILE\",\n",
    "    \"LEU\",\n",
    "    \"LYS\",\n",
    "    \"MET\",\n",
    "    \"PHE\",\n",
    "    \"PRO\",\n",
    "    \"PYL\",\n",
    "    \"SEC\",\n",
    "    \"SER\",\n",
    "    \"THR\",\n",
    "    \"TRP\",\n",
    "    \"TYR\",\n",
    "    \"VAL\",\n",
    "]\n",
    "\n",
    "\n",
    "def color_residues(structure: Structure.Structure, auth: bool = False) -> dict:\n",
    "    _, resn, _ = zip(\n",
    "        *[r.id for r in structure.get_residues() if r.get_resname() in AMINO_ACIDS]\n",
    "    )\n",
    "\n",
    "    rmin, rmax = min(resn), max(resn)\n",
    "    # todo check for off by one errors\n",
    "    norm = Normalize(vmin=rmin, vmax=rmax)\n",
    "    auth_str = \"_auth\" if auth else \"\"\n",
    "\n",
    "    cmap = colormaps[\"rainbow\"]\n",
    "    data = []\n",
    "    for i in range(rmin, rmax):\n",
    "        r, g, b, a = cmap(norm(i), bytes=True)\n",
    "        color = {\"r\": int(r), \"g\": int(g), \"b\": int(b)}\n",
    "        elem = {\n",
    "            f\"start{auth_str}_residue_number\": i,\n",
    "            f\"end{auth_str}_residue_number\": i,\n",
    "            \"color\": color,\n",
    "            \"focus\": False,\n",
    "        }\n",
    "        data.append(elem)\n",
    "\n",
    "    color_data = {\"data\": data, \"nonSelectedColor\": None}\n",
    "    return color_data"
   ]
  },
  {
   "cell_type": "code",
   "execution_count": 11,
   "id": "dd20302f",
   "metadata": {},
   "outputs": [],
   "source": [
    "def get_bfactor(residue: Residue.Residue):\n",
    "    \"\"\"returns the residue-average b-factor\"\"\"\n",
    "    return statistics.mean([atom.get_bfactor() for atom in residue])\n",
    "\n",
    "\n",
    "def color_bfactor(structure: Structure.Structure, auth: bool = False) -> dict:\n",
    "    auth_str = \"_auth\" if auth else \"\"\n",
    "    value_data = []\n",
    "    for chain in structure.get_chains():\n",
    "        for r in chain.get_residues():\n",
    "            if r.get_resname() in AMINO_ACIDS:\n",
    "                bfactor = get_bfactor(r)\n",
    "                elem = {\n",
    "                    f\"start{auth_str}_residue_number\": r.id[1],\n",
    "                    f\"end{auth_str}_residue_number\": r.id[1],\n",
    "                    \"struct_asym_id\": chain.id,\n",
    "                    \"value\": bfactor,\n",
    "                }\n",
    "                value_data.append(elem)\n",
    "\n",
    "    all_values = [d[\"value\"] for d in value_data]\n",
    "    vmin, vmax = min(all_values), max(all_values)\n",
    "\n",
    "    norm = Normalize(vmin=vmin, vmax=vmax)\n",
    "    cmap = colormaps[\"inferno\"]\n",
    "    data = []\n",
    "    for v_elem in value_data:\n",
    "        elem = v_elem.copy()\n",
    "        r, g, b, a = cmap(norm(elem.pop(\"value\")), bytes=True)\n",
    "        elem[\"color\"] = {\"r\": int(r), \"g\": int(g), \"b\": int(b)}\n",
    "        data.append(elem)\n",
    "\n",
    "    color_data = {\"data\": data, \"nonSelectedColor\": None}\n",
    "    return color_data"
   ]
  },
  {
   "cell_type": "code",
   "execution_count": 16,
   "id": "3c2a4cf2-2442-4579-9f80-64dbde5d2f9e",
   "metadata": {},
   "outputs": [
    {
     "data": {
      "application/vnd.jupyter.widget-view+json": {
       "model_id": "ec9f4089da9049a791e3feea24efa32d",
       "version_major": 2,
       "version_minor": 1
      },
      "text/plain": [
       "PDBeMolstar(bg_color='#F7F7F7', molecule_id='2vda')"
      ]
     },
     "execution_count": 16,
     "metadata": {},
     "output_type": "execute_result"
    }
   ],
   "source": [
    "PDBeMolstar(molecule_id=\"2vda\")"
   ]
  },
  {
   "cell_type": "code",
   "execution_count": 12,
   "id": "fc6410ad",
   "metadata": {},
   "outputs": [
    {
     "data": {
      "application/vnd.jupyter.widget-view+json": {
       "model_id": "eb8e05aeb66d46698381b4e9823cbc59",
       "version_major": 2,
       "version_minor": 1
      },
      "text/plain": [
       "PDBeMolstar(bg_color='#F7F7F7', color_data={'data': [{'start_residue_number': 1, 'end_residue_number': 1, 'str…"
      ]
     },
     "execution_count": 12,
     "metadata": {},
     "output_type": "execute_result"
    }
   ],
   "source": [
    "from pathlib import Path\n",
    "\n",
    "# fpth = Path(\"/afs/csail.mit.edu/u/s/samsl/Work/FoldNMA/alphaflow_pdb_base_202402/A0A172JI16_1.pdb\")\n",
    "fpth = Path(\"test_file.pdb\")\n",
    "struct = parser.get_structure(\"A0QT50\", fpth)\n",
    "custom_data = {\n",
    "    \"data\": fpth.read_bytes(),\n",
    "    \"format\": \"pdb\",\n",
    "    \"binary\": False,\n",
    "}\n",
    "view = PDBeMolstar(\n",
    "    custom_data=custom_data,\n",
    "    color_data=color_bfactor(struct),\n",
    "    hide_controls_icon=True,\n",
    "    hide_expand_icon=True,\n",
    "    hide_settings_icon=True,\n",
    "    hide_selection_icon=True,\n",
    "    hide_animation_icon=False,\n",
    "    hide_water=True,\n",
    "    hide_carbs=True,\n",
    ")\n",
    "view"
   ]
  },
  {
   "cell_type": "code",
   "execution_count": 13,
   "id": "1f669af7-81fe-46d3-9cd0-ea09d807f6b1",
   "metadata": {},
   "outputs": [],
   "source": [
    "from Bio.PDB.PDBIO import PDBIO\n",
    "\n",
    "io = PDBIO()\n",
    "\n",
    "io.set_structure(struct)\n",
    "io.save(\"test_file.pdb\")"
   ]
  },
  {
   "cell_type": "code",
   "execution_count": 14,
   "id": "40bf970f-eea4-4ef7-b7d0-0e4ae8bec04e",
   "metadata": {
    "tags": []
   },
   "outputs": [
    {
     "data": {
      "application/vnd.jupyter.widget-view+json": {
       "model_id": "a177107228674a85944b79450dbbd509",
       "version_major": 2,
       "version_minor": 0
      },
      "text/plain": [
       "NGLWidget()"
      ]
     },
     "metadata": {},
     "output_type": "display_data"
    }
   ],
   "source": [
    "# view = nv.show_file(\"./ensembles/A0QT50_1/A0QT50_1_1.pdb\")\n",
    "view = nv.show_file(\"test_file.pdb\")\n",
    "view.remove_cartoon()\n",
    "view.add_cartoon(selection=\"protein\", color_scheme=\"bfactor\")\n",
    "view"
   ]
  },
  {
   "cell_type": "code",
   "execution_count": 15,
   "id": "435b79de",
   "metadata": {},
   "outputs": [
    {
     "data": {
      "application/vnd.jupyter.widget-view+json": {
       "model_id": "ea3a3162516843c095cda8ace339e55e",
       "version_major": 2,
       "version_minor": 0
      },
      "text/plain": [
       "NGLWidget(max_frame=48)"
      ]
     },
     "metadata": {},
     "output_type": "display_data"
    }
   ],
   "source": [
    "view = nv.show_mdtraj(traj)\n",
    "view.remove_cartoon()\n",
    "view.add_cartoon(\"protein\")\n",
    "view"
   ]
  },
  {
   "cell_type": "code",
   "execution_count": null,
   "id": "006b009f-7901-4cdb-a12a-03e16964f194",
   "metadata": {},
   "outputs": [],
   "source": []
  }
 ],
 "metadata": {
  "kernelspec": {
   "display_name": "rocketshp",
   "language": "python",
   "name": "python3"
  },
  "language_info": {
   "codemirror_mode": {
    "name": "ipython",
    "version": 3
   },
   "file_extension": ".py",
   "mimetype": "text/x-python",
   "name": "python",
   "nbconvert_exporter": "python",
   "pygments_lexer": "ipython3",
   "version": "3.11.10"
  }
 },
 "nbformat": 4,
 "nbformat_minor": 5
}
