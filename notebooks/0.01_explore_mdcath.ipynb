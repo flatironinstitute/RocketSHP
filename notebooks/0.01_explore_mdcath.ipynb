{
 "cells": [
  {
   "cell_type": "code",
   "execution_count": 1,
   "id": "12a18c90-2c64-4a81-a4fe-d808cdc4518e",
   "metadata": {},
   "outputs": [
    {
     "name": "stderr",
     "output_type": "stream",
     "text": [
      "\u001b[32m2024-09-17 14:55:38.912\u001b[0m | \u001b[1mINFO    \u001b[0m | \u001b[36mrocketshp.config\u001b[0m:\u001b[36m<module>\u001b[0m:\u001b[36m11\u001b[0m - \u001b[1mPROJ_ROOT path is: /mnt/home/ssledzieski/Projects/rocketshp\u001b[0m\n"
     ]
    }
   ],
   "source": [
    "from rocketshp import config"
   ]
  },
  {
   "cell_type": "code",
   "execution_count": 2,
   "id": "740aa458-f2d1-4a3e-8a1f-f6b6753e7c8f",
   "metadata": {},
   "outputs": [],
   "source": [
    "from loguru import logger"
   ]
  },
  {
   "cell_type": "code",
   "execution_count": 3,
   "id": "51e8f58b-0738-4f68-ab6d-8d0ce13690fa",
   "metadata": {},
   "outputs": [],
   "source": [
    "import h5py\n",
    "from torchmdnet.datasets import MDCATH"
   ]
  },
  {
   "cell_type": "code",
   "execution_count": 4,
   "id": "b361a6b1-bde8-4e7d-96ae-e219259f8896",
   "metadata": {},
   "outputs": [],
   "source": [
    "MDCATH_DIR = f\"{config.RAW_DATA_DIR}/mdcath\"\n",
    "TEMP = \"348\"\n",
    "REPL = \"0\""
   ]
  },
  {
   "cell_type": "code",
   "execution_count": 5,
   "id": "0fd2aee0-5dc0-4de2-9e6f-850aba8101be",
   "metadata": {},
   "outputs": [
    {
     "name": "stdout",
     "output_type": "stream",
     "text": [
      "\u001b[32m2024-09-17 14:55:46.390\u001b[0m | \u001b[1mINFO    \u001b[0m | \u001b[36m__main__\u001b[0m:\u001b[36m<module>\u001b[0m:\u001b[36m1\u001b[0m - \u001b[1mLoading MDCath\u001b[0m\n"
     ]
    },
    {
     "name": "stderr",
     "output_type": "stream",
     "text": [
      "Processing mdcath source: 100%|████████████████████████████████████████████████████████████████████████████████████████████████████████████████████████████████████████████████████████████████████████████████████████████████████████████| 5398/5398 [00:05<00:00, 933.18it/s]\n"
     ]
    }
   ],
   "source": [
    "logger.info('Loading MDCath')\n",
    "mdc = MDCATH(MDCATH_DIR)"
   ]
  },
  {
   "cell_type": "code",
   "execution_count": 6,
   "id": "99adfbfe-4863-4e5d-8d41-3deedd210354",
   "metadata": {},
   "outputs": [],
   "source": [
    "from rocketshp.convert_mdCATH import convert_to_files, convert_to_mdtraj"
   ]
  },
  {
   "cell_type": "code",
   "execution_count": 7,
   "id": "3f231998-1671-48c7-b8a5-2e317aeb2579",
   "metadata": {},
   "outputs": [],
   "source": [
    "DOMAIN = \"2nttA02\""
   ]
  },
  {
   "cell_type": "code",
   "execution_count": 64,
   "id": "aa1a7d12-d7c2-4526-97ac-b512cab35f9e",
   "metadata": {},
   "outputs": [
    {
     "name": "stdout",
     "output_type": "stream",
     "text": [
      "\u001b[32m2024-09-17 11:02:31.398\u001b[0m | \u001b[1mINFO    \u001b[0m | \u001b[36mrocketshp.convert_mdCATH\u001b[0m:\u001b[36mconvert_to_files\u001b[0m:\u001b[36m176\u001b[0m - \u001b[1mWrote /mnt/home/ssledzieski/Projects/rocketshp/data/interim/2nttA02.pdb\u001b[0m\n",
      "\u001b[32m2024-09-17 11:02:31.627\u001b[0m | \u001b[1mINFO    \u001b[0m | \u001b[36mrocketshp.convert_mdCATH\u001b[0m:\u001b[36mconvert_to_files\u001b[0m:\u001b[36m183\u001b[0m - \u001b[1mWrote /mnt/home/ssledzieski/Projects/rocketshp/data/interim/2nttA02_348_3.xtc\u001b[0m\n"
     ]
    }
   ],
   "source": [
    "pdb_fi, xtc_fi = convert_to_files(f\"{MDCATH_DIR}/mdcath_dataset_{DOMAIN}.h5\", f\"{config.INTERIM_DATA_DIR}/{DOMAIN}\" , [\"348\"], [\"3\"])"
   ]
  },
  {
   "cell_type": "code",
   "execution_count": 65,
   "id": "70a476c0-4017-408c-a64f-7671c6e66933",
   "metadata": {},
   "outputs": [
    {
     "name": "stdout",
     "output_type": "stream",
     "text": [
      " 0.01_explore_mdcath.ipynb  'View Flexibility.ipynb'\n"
     ]
    }
   ],
   "source": [
    "!ls"
   ]
  },
  {
   "cell_type": "code",
   "execution_count": 67,
   "id": "9ffa93cc-0e7b-4bf4-8d68-9ecf4a90a317",
   "metadata": {},
   "outputs": [],
   "source": [
    "import mdtraj"
   ]
  },
  {
   "cell_type": "code",
   "execution_count": 77,
   "id": "9cc9308b-642f-4bd1-901b-d169a365a17a",
   "metadata": {},
   "outputs": [],
   "source": [
    "traj = convert_to_mdtraj(f\"{MDCATH_DIR}/mdcath_dataset_{DOMAIN}.h5\", TEMP, REPL)\n",
    "traj_sp = traj.superpose(traj[0])"
   ]
  },
  {
   "cell_type": "code",
   "execution_count": 78,
   "id": "70105f1b-5457-4534-9c15-a20da8de19e5",
   "metadata": {},
   "outputs": [
    {
     "data": {
      "text/plain": [
       "<mdtraj.Trajectory with 500 frames, 1099 atoms, 70 residues, without unitcells at 0x7f3936d16ed0>"
      ]
     },
     "execution_count": 78,
     "metadata": {},
     "output_type": "execute_result"
    }
   ],
   "source": [
    "traj_sp"
   ]
  },
  {
   "cell_type": "code",
   "execution_count": 79,
   "id": "699d050e-06d0-463f-a7be-af70e671aba2",
   "metadata": {},
   "outputs": [],
   "source": [
    "import nglview as nv"
   ]
  },
  {
   "cell_type": "code",
   "execution_count": 80,
   "id": "ecb972f2-33ae-4205-bf03-001f2d535578",
   "metadata": {},
   "outputs": [
    {
     "data": {
      "application/vnd.jupyter.widget-view+json": {
       "model_id": "0d7270fed83842278111809d4d627b60",
       "version_major": 2,
       "version_minor": 0
      },
      "text/plain": [
       "NGLWidget()"
      ]
     },
     "metadata": {},
     "output_type": "display_data"
    }
   ],
   "source": [
    "nv.show_pdbid(DOMAIN[:4])"
   ]
  },
  {
   "cell_type": "code",
   "execution_count": 82,
   "id": "4f4bb5b2-87b4-4420-9a30-a69eb1d3ca86",
   "metadata": {},
   "outputs": [
    {
     "data": {
      "application/vnd.jupyter.widget-view+json": {
       "model_id": "a5c9311533264771b320c4708f91ccb0",
       "version_major": 2,
       "version_minor": 0
      },
      "text/plain": [
       "NGLWidget(max_frame=499)"
      ]
     },
     "metadata": {},
     "output_type": "display_data"
    }
   ],
   "source": [
    "view = nv.show_mdtraj(traj_sp)\n",
    "view.remove_cartoon()\n",
    "view.add_cartoon('protein')\n",
    "view"
   ]
  },
  {
   "cell_type": "code",
   "execution_count": 71,
   "id": "af08999e-c60c-4dda-951e-bd9fe564cf93",
   "metadata": {},
   "outputs": [],
   "source": [
    "pm = mdtraj.principal_moments(traj_sp)"
   ]
  },
  {
   "cell_type": "code",
   "execution_count": 72,
   "id": "a7e84773-7c7a-444a-814a-1a3b6886bc00",
   "metadata": {},
   "outputs": [
    {
     "data": {
      "text/plain": [
       "(500, 3)"
      ]
     },
     "execution_count": 72,
     "metadata": {},
     "output_type": "execute_result"
    }
   ],
   "source": [
    "pm.shape"
   ]
  },
  {
   "cell_type": "code",
   "execution_count": 73,
   "id": "9b2c91e2-f312-4f73-8039-18d5ee94835c",
   "metadata": {},
   "outputs": [
    {
     "data": {
      "text/plain": [
       "array([[0.27976751, 0.4409481 , 0.60691768],\n",
       "       [0.27910251, 0.44235817, 0.6225342 ],\n",
       "       [0.29659791, 0.40083691, 0.65179232],\n",
       "       ...,\n",
       "       [0.29595708, 0.39087462, 0.99456048],\n",
       "       [0.2927136 , 0.4095155 , 0.95013262],\n",
       "       [0.2843157 , 0.42080685, 0.9946145 ]])"
      ]
     },
     "execution_count": 73,
     "metadata": {},
     "output_type": "execute_result"
    }
   ],
   "source": [
    "pm"
   ]
  },
  {
   "cell_type": "code",
   "execution_count": 18,
   "id": "0bb4c876-040d-4f71-8d38-b05258a4841c",
   "metadata": {},
   "outputs": [],
   "source": [
    "def get_mdcath_coords(mdc_object, domain, frame, temp=TEMP, repl=REPL):\n",
    "    z, coords, forces = mdc_object.process_specific_group(domain, f\"{MDCATH_DIR}/mdcath_dataset_{domain}.h5\",temp, repl, frame)\n",
    "    return coords"
   ]
  },
  {
   "cell_type": "code",
   "execution_count": 40,
   "id": "7569b27a-c29c-46a7-b759-527dd86f9da4",
   "metadata": {},
   "outputs": [],
   "source": [
    "def get_mdcath_entry(domain, temp=TEMP, repl=REPL):\n",
    "    with h5py.File(f\"{MDCATH_DIR}/mdcath_dataset_{domain}.h5\",\"r\") as fi:\n",
    "        residue_name = fi[f\"{domain}/resname\"][:]\n",
    "        residue_id = fi[f\"{domain}/resid\"][:]\n",
    "        atom_list = fi[f\"{domain}/element\"][:]\n",
    "        sim = fi[f\"{domain}/{temp}/{repl}\"]\n",
    "        coords = sim[\"coords\"][:]\n",
    "        gyration_radius = sim[\"gyrationRadius\"][:]\n",
    "    return residue_name, residue_id, atom_list, coords, gyration_radius"
   ]
  },
  {
   "cell_type": "code",
   "execution_count": 48,
   "id": "bcc8feb2-9df8-4aac-a9db-9696db53604a",
   "metadata": {},
   "outputs": [],
   "source": [
    "residues, resid, atoms, coords, gr = get_mdcath_entry(\"2nttA02\")"
   ]
  },
  {
   "cell_type": "code",
   "execution_count": 52,
   "id": "4bf6df8e-17ab-409c-ba40-6e80062d274b",
   "metadata": {},
   "outputs": [],
   "source": [
    "seq = \"MEMEKEFEQIDKSGSWAAIYQDIRHEASDFPCRVAKLPKNKNRNRYRDVSPFDHSRIKLHQEDNDYINASLIKMEEAQRSYILTQGPLPNTCGHFWEMVWEQKSRGVVMLNRVMEKGSLKCAQYWPQKEEKEMIFEDTNLKLTLISEDIKSYYTVRQLELENLTTQETREILHFHYTTWPDFGVPESPASFLNFLFKVRESGSLSPEHGPVVVHCSAGIGRSGTFCLADTCLLLMDKRKDPSSVDIKKVLLDMRKFRMGLIQTADQLRFSYLAVIEGAKFIMGDSSVQDQWKELSHEDL\""
   ]
  },
  {
   "cell_type": "code",
   "execution_count": 55,
   "id": "3b398562-16f5-4b47-a779-58573cdcad02",
   "metadata": {},
   "outputs": [
    {
     "data": {
      "text/plain": [
       "'DKSGSWAAIYQDIRHEASDF'"
      ]
     },
     "execution_count": 55,
     "metadata": {},
     "output_type": "execute_result"
    }
   ],
   "source": [
    "seq[10:30]"
   ]
  },
  {
   "cell_type": "code",
   "execution_count": 49,
   "id": "c9d89795-44d1-4bec-84ba-2421c864bd4b",
   "metadata": {},
   "outputs": [
    {
     "data": {
      "text/plain": [
       "array([b'ASP', b'ASP', b'ASP', b'ASP', b'ASP', b'ASP', b'ASP', b'ASP',\n",
       "       b'ASP', b'ASP', b'ASP', b'ASP', b'ASP', b'ASP', b'ASP', b'ASP',\n",
       "       b'ASP', b'ASP', b'PHE', b'PHE', b'PHE', b'PHE', b'PHE', b'PHE',\n",
       "       b'PHE', b'PHE', b'PHE', b'PHE', b'PHE', b'PHE', b'PHE', b'PHE',\n",
       "       b'PHE', b'PHE', b'PHE', b'PHE', b'PHE', b'PHE', b'VAL', b'VAL',\n",
       "       b'VAL', b'VAL', b'VAL', b'VAL', b'VAL', b'VAL', b'VAL', b'VAL',\n",
       "       b'VAL', b'VAL'], dtype=object)"
      ]
     },
     "execution_count": 49,
     "metadata": {},
     "output_type": "execute_result"
    }
   ],
   "source": [
    "residues[:50]"
   ]
  },
  {
   "cell_type": "code",
   "execution_count": 50,
   "id": "6e0bacdf-adb9-4b02-88ee-96e206612020",
   "metadata": {},
   "outputs": [
    {
     "data": {
      "text/plain": [
       "array([17, 17, 17, 17, 17, 17, 17, 17, 17, 17, 17, 17, 17, 17, 17, 17, 17,\n",
       "       17, 18, 18, 18, 18, 18, 18, 18, 18, 18, 18, 18, 18, 18, 18, 18, 18,\n",
       "       18, 18, 18, 18, 19, 19, 19, 19, 19, 19, 19, 19, 19, 19, 19, 19])"
      ]
     },
     "execution_count": 50,
     "metadata": {},
     "output_type": "execute_result"
    }
   ],
   "source": [
    "resid[:50]"
   ]
  },
  {
   "cell_type": "code",
   "execution_count": 51,
   "id": "4a44e421-2c63-48aa-aaa1-adee4de01334",
   "metadata": {},
   "outputs": [
    {
     "data": {
      "text/plain": [
       "array([b'C', b'H', b'H', b'H', b'C', b'O', b'N', b'H', b'C', b'H', b'C',\n",
       "       b'H', b'H', b'C', b'O', b'O', b'C', b'O', b'N', b'H', b'C', b'H',\n",
       "       b'C', b'H', b'H', b'C', b'C', b'H', b'C', b'H', b'C', b'H', b'C',\n",
       "       b'H', b'C', b'H', b'C', b'O', b'N', b'H', b'C', b'H', b'C', b'H',\n",
       "       b'C', b'H', b'H', b'H', b'C', b'H'], dtype=object)"
      ]
     },
     "execution_count": 51,
     "metadata": {},
     "output_type": "execute_result"
    }
   ],
   "source": [
    "atoms[:50]"
   ]
  },
  {
   "cell_type": "code",
   "execution_count": 21,
   "id": "43508724-93b9-4b7c-9b19-8c0f4947cb5f",
   "metadata": {},
   "outputs": [
    {
     "data": {
      "text/plain": [
       "array([[ 2.82000017, 49.13999939, 75.39000702],\n",
       "       [ 2.9000001 , 48.18000412, 75.13000488],\n",
       "       [ 3.80000019, 49.72999954, 76.19000244],\n",
       "       ...,\n",
       "       [ 2.6900003 , 40.33000183, 60.29000092],\n",
       "       [ 0.67000002, 43.22000122, 66.07000732],\n",
       "       [ 1.33000004, 42.74000168, 66.99000549]])"
      ]
     },
     "execution_count": 21,
     "metadata": {},
     "output_type": "execute_result"
    }
   ],
   "source": [
    "get_mdcath_coords(mdc, \"153lA00\", 1)"
   ]
  },
  {
   "cell_type": "code",
   "execution_count": 15,
   "id": "bfca99c0-b29d-4f6e-8cee-75b9c69dafbc",
   "metadata": {},
   "outputs": [
    {
     "data": {
      "text/plain": [
       "(array([7, 1, 6, ..., 1, 6, 8]),\n",
       " array([[14.85000038, 53.81000137, 75.79000854],\n",
       "        [15.06000042, 53.09000015, 76.45000458],\n",
       "        [15.81999969, 54.06999969, 74.77999878],\n",
       "        ...,\n",
       "        [ 9.38000011, 41.35000229, 63.82000351],\n",
       "        [ 8.82999992, 45.74000549, 69.07000732],\n",
       "        [ 9.97000027, 45.99000549, 69.41000366]]),\n",
       " array([[ -4.61763048,  16.82621193,  -1.99926054],\n",
       "        [ -0.73253453,  -6.33592844,   2.88446188],\n",
       "        [-17.23141098,  28.47986221,  14.29771614],\n",
       "        ...,\n",
       "        [ -4.86854553,   1.57947326,  -0.28790951],\n",
       "        [ -7.37175894,  -5.15880013,  -3.44312906],\n",
       "        [ 12.22301483,   6.11317348,   5.47645569]]))"
      ]
     },
     "execution_count": 15,
     "metadata": {},
     "output_type": "execute_result"
    }
   ],
   "source": [
    "mdc.process_specific_group(\"153lA00\", f\"{MDCATH_DIR}/mdcath_dataset_153lA00.h5\",TEMP,REPL, 0)"
   ]
  },
  {
   "cell_type": "code",
   "execution_count": 25,
   "id": "39764d89-9b9f-4302-b26e-3b79535a9d42",
   "metadata": {},
   "outputs": [],
   "source": [
    "pdb_files = list(mdc.processed.keys())"
   ]
  },
  {
   "cell_type": "code",
   "execution_count": 23,
   "id": "eea686a8-1151-437f-99e4-6e77f381b6f0",
   "metadata": {},
   "outputs": [
    {
     "data": {
      "text/plain": [
       "5184"
      ]
     },
     "execution_count": 23,
     "metadata": {},
     "output_type": "execute_result"
    }
   ],
   "source": [
    "len(pdb_files)"
   ]
  },
  {
   "cell_type": "code",
   "execution_count": 29,
   "id": "a627a02a-7c91-4151-8c4f-9e12c4ca179d",
   "metadata": {},
   "outputs": [
    {
     "data": {
      "text/plain": [
       "'153lA00'"
      ]
     },
     "execution_count": 29,
     "metadata": {},
     "output_type": "execute_result"
    }
   ],
   "source": [
    "pdb_files[0]"
   ]
  },
  {
   "cell_type": "code",
   "execution_count": 43,
   "id": "57226e03-cab1-4cbc-ba41-ac7d4bfc7a00",
   "metadata": {},
   "outputs": [],
   "source": [
    "f = h5py.File(f\"{MDCATH_DIR}/mdcath_dataset_{pdb_files[0]}.h5\", \"r\")"
   ]
  },
  {
   "cell_type": "code",
   "execution_count": 46,
   "id": "7cc4ae05-8cac-404f-83c9-0751f58a3dfb",
   "metadata": {},
   "outputs": [],
   "source": [
    "k = list(f.keys())"
   ]
  },
  {
   "cell_type": "code",
   "execution_count": 94,
   "id": "58756965-916c-4493-ae85-19f666e91540",
   "metadata": {},
   "outputs": [
    {
     "data": {
      "text/plain": [
       "array([[[ 1.48500004e+01,  5.38100014e+01,  7.57900085e+01],\n",
       "        [ 1.50600004e+01,  5.30900002e+01,  7.64500046e+01],\n",
       "        [ 1.58199997e+01,  5.40699997e+01,  7.47799988e+01],\n",
       "        ...,\n",
       "        [ 9.38000011e+00,  4.13500023e+01,  6.38200035e+01],\n",
       "        [ 8.82999992e+00,  4.57400055e+01,  6.90700073e+01],\n",
       "        [ 9.97000027e+00,  4.59900055e+01,  6.94100037e+01]],\n",
       "\n",
       "       [[ 2.82000017e+00,  4.91399994e+01,  7.53900070e+01],\n",
       "        [ 2.90000010e+00,  4.81800041e+01,  7.51300049e+01],\n",
       "        [ 3.80000019e+00,  4.97299995e+01,  7.61900024e+01],\n",
       "        ...,\n",
       "        [ 2.69000030e+00,  4.03300018e+01,  6.02900009e+01],\n",
       "        [ 6.70000017e-01,  4.32200012e+01,  6.60700073e+01],\n",
       "        [ 1.33000004e+00,  4.27400017e+01,  6.69900055e+01]],\n",
       "\n",
       "       [[ 5.66000032e+00,  5.18600044e+01,  7.87500076e+01],\n",
       "        [ 4.71000004e+00,  5.19599991e+01,  7.90400009e+01],\n",
       "        [ 5.85000038e+00,  5.06000061e+01,  7.80699997e+01],\n",
       "        ...,\n",
       "        [ 2.00000014e-02,  4.44900055e+01,  6.27100029e+01],\n",
       "        [-1.23000002e+00,  4.69099998e+01,  6.88400040e+01],\n",
       "        [-3.60000014e-01,  4.60800018e+01,  6.92600021e+01]],\n",
       "\n",
       "       ...,\n",
       "\n",
       "       [[ 8.59600067e+01,  3.99500008e+01,  1.57790009e+02],\n",
       "        [ 8.55899963e+01,  3.98300018e+01,  1.58710007e+02],\n",
       "        [ 8.71500015e+01,  4.07400055e+01,  1.57660004e+02],\n",
       "        ...,\n",
       "        [ 7.57300034e+01,  2.48900013e+01,  1.57430008e+02],\n",
       "        [ 8.06500092e+01,  2.95500011e+01,  1.55820007e+02],\n",
       "        [ 8.15400009e+01,  2.98800011e+01,  1.56620010e+02]],\n",
       "\n",
       "       [[ 1.00150002e+02,  3.84500046e+01,  1.60660004e+02],\n",
       "        [ 1.00770004e+02,  3.92000008e+01,  1.60860001e+02],\n",
       "        [ 1.00010002e+02,  3.74200020e+01,  1.61640015e+02],\n",
       "        ...,\n",
       "        [ 8.21200104e+01,  3.05400009e+01,  1.54930008e+02],\n",
       "        [ 8.86000061e+01,  2.97400017e+01,  1.56320007e+02],\n",
       "        [ 8.92800064e+01,  2.94900017e+01,  1.57290009e+02]],\n",
       "\n",
       "       [[ 1.04770004e+02,  3.91800003e+01,  1.60520004e+02],\n",
       "        [ 1.05150002e+02,  3.93300018e+01,  1.59620010e+02],\n",
       "        [ 1.05280006e+02,  3.82500038e+01,  1.61500015e+02],\n",
       "        ...,\n",
       "        [ 8.77400055e+01,  3.75800018e+01,  1.55170013e+02],\n",
       "        [ 9.43000031e+01,  3.80400009e+01,  1.56930008e+02],\n",
       "        [ 9.50000000e+01,  3.89000015e+01,  1.56370010e+02]]],\n",
       "      dtype=float32)"
      ]
     },
     "execution_count": 94,
     "metadata": {},
     "output_type": "execute_result"
    }
   ],
   "source": [
    "f[f\"153lA00/{TEMP}/0/coords\"][:]"
   ]
  },
  {
   "cell_type": "code",
   "execution_count": 32,
   "id": "ceb3ab71-de8d-45c4-8884-ed0d75976cce",
   "metadata": {},
   "outputs": [],
   "source": [
    "z, coords, forces = mdc.process_specific_group(pdb_files[0], f\"{config.RAW_DATA_DIR}/mdcath/mdcath_dataset_{pdb_files[0]}.h5\", \"348\", \"0\", 10)"
   ]
  },
  {
   "cell_type": "code",
   "execution_count": 33,
   "id": "b05df1b2-1e13-4723-8d2e-07165dc3d230",
   "metadata": {},
   "outputs": [
    {
     "data": {
      "text/plain": [
       "(2855, 3)"
      ]
     },
     "execution_count": 33,
     "metadata": {},
     "output_type": "execute_result"
    }
   ],
   "source": [
    "coords.shape"
   ]
  },
  {
   "cell_type": "code",
   "execution_count": 39,
   "id": "8da61cd7-0387-48d5-81f7-0079f078a681",
   "metadata": {},
   "outputs": [
    {
     "data": {
      "text/plain": [
       "('153lA00',\n",
       " '/mnt/home/ssledzieski/Projects/rocketshp/data/raw/mdcath/mdcath_dataset_153lA00.h5',\n",
       " '348',\n",
       " '0',\n",
       " 2)"
      ]
     },
     "execution_count": 39,
     "metadata": {},
     "output_type": "execute_result"
    }
   ],
   "source": [
    "mdc.idx[2]"
   ]
  },
  {
   "cell_type": "code",
   "execution_count": 36,
   "id": "5c523b9b-bcf9-4e90-abb6-4f78426aa83d",
   "metadata": {},
   "outputs": [
    {
     "data": {
      "text/plain": [
       "('153lA00',\n",
       " '/mnt/home/ssledzieski/Projects/rocketshp/data/raw/mdcath/mdcath_dataset_153lA00.h5',\n",
       " '348',\n",
       " '0',\n",
       " 0)"
      ]
     },
     "execution_count": 36,
     "metadata": {},
     "output_type": "execute_result"
    }
   ],
   "source": [
    "mdc.idx[0]"
   ]
  },
  {
   "cell_type": "code",
   "execution_count": 34,
   "id": "0c06afa0-25e8-461e-922b-2643d025841c",
   "metadata": {},
   "outputs": [
    {
     "data": {
      "text/plain": [
       "Data(z=[2855], pos=[2855, 3], neg_dy=[2855, 3], info='153lA00_348_0_0')"
      ]
     },
     "execution_count": 34,
     "metadata": {},
     "output_type": "execute_result"
    }
   ],
   "source": [
    "mdc.get(0)"
   ]
  },
  {
   "cell_type": "code",
   "execution_count": 28,
   "id": "3e4f38e0-a6eb-4cc5-b6f4-91045d6a8d0e",
   "metadata": {},
   "outputs": [
    {
     "data": {
      "text/plain": [
       "('348', '0', 450)"
      ]
     },
     "execution_count": 28,
     "metadata": {},
     "output_type": "execute_result"
    }
   ],
   "source": [
    "mdc.processed[pdb_files[0]][0]"
   ]
  },
  {
   "cell_type": "code",
   "execution_count": 18,
   "id": "a9dd477e-e742-4939-b4f2-498e148d6a14",
   "metadata": {},
   "outputs": [
    {
     "data": {
      "text/plain": [
       "dict_keys(['url', 'source_file', 'root', 'numAtoms', 'numResidues', 'temperatures', 'skip_frames', 'pdb_list', 'min_gyration_radius', 'max_gyration_radius', 'alpha_beta_coil', 'numFrames', 'solid_ss', 'processed', 'num_conformers', 'idx', 'transform', 'pre_transform', 'pre_filter', 'log', '_indices', 'force_reload', 'total_size_mb'])"
      ]
     },
     "execution_count": 18,
     "metadata": {},
     "output_type": "execute_result"
    }
   ],
   "source": [
    "vars(mdc).keys()"
   ]
  },
  {
   "cell_type": "code",
   "execution_count": null,
   "id": "9e92b414-8ce4-408c-9ae1-fec5580e8c4f",
   "metadata": {},
   "outputs": [],
   "source": []
  }
 ],
 "metadata": {
  "kernelspec": {
   "display_name": "Python 3 (ipykernel)",
   "language": "python",
   "name": "python3"
  },
  "language_info": {
   "codemirror_mode": {
    "name": "ipython",
    "version": 3
   },
   "file_extension": ".py",
   "mimetype": "text/x-python",
   "name": "python",
   "nbconvert_exporter": "python",
   "pygments_lexer": "ipython3",
   "version": "3.11.10"
  }
 },
 "nbformat": 4,
 "nbformat_minor": 5
}
