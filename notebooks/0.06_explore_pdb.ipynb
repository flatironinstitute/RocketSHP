{
 "cells": [
  {
   "cell_type": "code",
   "execution_count": 1,
   "metadata": {},
   "outputs": [
    {
     "name": "stderr",
     "output_type": "stream",
     "text": [
      "\u001b[32m2024-11-04 15:01:14.957\u001b[0m | \u001b[1mINFO    \u001b[0m | \u001b[36mrocketshp.config\u001b[0m:\u001b[36m<module>\u001b[0m:\u001b[36m11\u001b[0m - \u001b[1mPROJ_ROOT path is: /mnt/home/ssledzieski/Projects/rocketshp\u001b[0m\n"
     ]
    }
   ],
   "source": [
    "from loguru import logger"
   ]
  },
  {
   "cell_type": "code",
   "execution_count": 9,
   "metadata": {},
   "outputs": [],
   "source": [
    "PDB_ROOT_PATH = \"/mnt/ceph/users/protfold/PDB_mirror/pdb\"\n",
    "MMCIF_ROOT_PATH = \"/mnt/ceph/users/protfold/PDB_mirror/mmCIF\"\n",
    "\n",
    "import glob\n",
    "\n",
    "file_list = glob.glob(f\"{PDB_ROOT_PATH}/*/*.ent.gz\")\n",
    "mmcif_file_list = glob.glob(f\"{MMCIF_ROOT_PATH}/*/*.cif.gz\")\n",
    "# protein_list = [\"_\".join(f.split(\"/\")[-1].split(\"_\")[:2]) for f in file_list]"
   ]
  },
  {
   "cell_type": "code",
   "execution_count": 10,
   "metadata": {},
   "outputs": [
    {
     "name": "stdout",
     "output_type": "stream",
     "text": [
      "\u001b[32m2024-11-04 15:05:00.416\u001b[0m | \u001b[1mINFO    \u001b[0m | \u001b[36m__main__\u001b[0m:\u001b[36m<module>\u001b[0m:\u001b[36m1\u001b[0m - \u001b[1mTotal number of PDB files: 202345\u001b[0m\n",
      "\u001b[32m2024-11-04 15:05:00.419\u001b[0m | \u001b[1mINFO    \u001b[0m | \u001b[36m__main__\u001b[0m:\u001b[36m<module>\u001b[0m:\u001b[36m2\u001b[0m - \u001b[1mTotal number of mmCIF files: 190841\u001b[0m\n"
     ]
    }
   ],
   "source": [
    "logger.info(f\"Total number of PDB files: {len(file_list)}\")\n",
    "logger.info(f\"Total number of mmCIF files: {len(mmcif_file_list)}\")"
   ]
  },
  {
   "cell_type": "code",
   "execution_count": 11,
   "metadata": {},
   "outputs": [
    {
     "data": {
      "text/plain": [
       "'/mnt/ceph/users/protfold/PDB_mirror/pdb/u8/pdb5u8e.ent.gz'"
      ]
     },
     "execution_count": 11,
     "metadata": {},
     "output_type": "execute_result"
    }
   ],
   "source": [
    "file_list[0]"
   ]
  },
  {
   "cell_type": "code",
   "execution_count": 6,
   "metadata": {},
   "outputs": [],
   "source": [
    "import gzip\n",
    "\n",
    "with gzip.GzipFile(file_list[0], 'r') as f:\n",
    "    content = f.read()"
   ]
  }
 ],
 "metadata": {
  "kernelspec": {
   "display_name": "rocketshp",
   "language": "python",
   "name": "python3"
  },
  "language_info": {
   "codemirror_mode": {
    "name": "ipython",
    "version": 3
   },
   "file_extension": ".py",
   "mimetype": "text/x-python",
   "name": "python",
   "nbconvert_exporter": "python",
   "pygments_lexer": "ipython3",
   "version": "3.11.0"
  }
 },
 "nbformat": 4,
 "nbformat_minor": 2
}
