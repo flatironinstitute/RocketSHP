{
 "cells": [
  {
   "cell_type": "code",
   "execution_count": 1,
   "id": "b60bc8dd-66f2-4d20-ac41-c119ef79dfd1",
   "metadata": {},
   "outputs": [
    {
     "name": "stderr",
     "output_type": "stream",
     "text": [
      "\u001b[32m2024-09-24 17:47:47.390\u001b[0m | \u001b[1mINFO    \u001b[0m | \u001b[36mrocketshp.config\u001b[0m:\u001b[36m<module>\u001b[0m:\u001b[36m11\u001b[0m - \u001b[1mPROJ_ROOT path is: /mnt/home/ssledzieski/Projects/rocketshp\u001b[0m\n"
     ]
    }
   ],
   "source": [
    "\n",
    "from rocketshp import config"
   ]
  },
  {
   "cell_type": "code",
   "execution_count": 2,
   "id": "c3835678-8843-4ffa-b4c0-d522b888652f",
   "metadata": {},
   "outputs": [
    {
     "ename": "ModuleNotFoundError",
     "evalue": "No module named 'rocketshp.convert_mdCATH'",
     "output_type": "error",
     "traceback": [
      "\u001b[0;31m---------------------------------------------------------------------------\u001b[0m",
      "\u001b[0;31mModuleNotFoundError\u001b[0m                       Traceback (most recent call last)",
      "Cell \u001b[0;32mIn[2], line 1\u001b[0m\n\u001b[0;32m----> 1\u001b[0m \u001b[38;5;28;01mfrom\u001b[39;00m \u001b[38;5;21;01mrocketshp\u001b[39;00m\u001b[38;5;21;01m.\u001b[39;00m\u001b[38;5;21;01mconvert_mdCATH\u001b[39;00m \u001b[38;5;28;01mimport\u001b[39;00m convert_to_files, convert_to_mdtraj\n\u001b[1;32m      2\u001b[0m MDCATH_DIR \u001b[38;5;241m=\u001b[39m \u001b[38;5;124mf\u001b[39m\u001b[38;5;124m\"\u001b[39m\u001b[38;5;132;01m{\u001b[39;00mconfig\u001b[38;5;241m.\u001b[39mRAW_DATA_DIR\u001b[38;5;132;01m}\u001b[39;00m\u001b[38;5;124m/mdcath\u001b[39m\u001b[38;5;124m\"\u001b[39m\n\u001b[1;32m      3\u001b[0m TEMP \u001b[38;5;241m=\u001b[39m \u001b[38;5;124m\"\u001b[39m\u001b[38;5;124m348\u001b[39m\u001b[38;5;124m\"\u001b[39m\n",
      "\u001b[0;31mModuleNotFoundError\u001b[0m: No module named 'rocketshp.convert_mdCATH'"
     ]
    }
   ],
   "source": [
    "from rocketshp.convert_mdCATH import convert_to_mdtraj\n",
    "\n",
    "MDCATH_DIR = f\"{config.RAW_DATA_DIR}/mdcath\"\n",
    "TEMP = \"348\"\n",
    "REPL = \"0\""
   ]
  },
  {
   "cell_type": "code",
   "execution_count": 63,
   "id": "9195c69a-b3fb-44a6-ab89-8d231d831226",
   "metadata": {},
   "outputs": [],
   "source": [
    "DOMAIN = \"1xwrB00\""
   ]
  },
  {
   "cell_type": "code",
   "execution_count": 64,
   "id": "55930bb5-40a7-4223-93bc-7e23d436bb60",
   "metadata": {},
   "outputs": [],
   "source": [
    "traj = convert_to_mdtraj(f\"{MDCATH_DIR}/mdcath_dataset_{DOMAIN}.h5\", TEMP, REPL)"
   ]
  },
  {
   "cell_type": "code",
   "execution_count": 65,
   "id": "8ff62937-e089-4c82-a298-33698184765f",
   "metadata": {},
   "outputs": [],
   "source": [
    "traj.save_pdb(f\"{config.INTERIM_DATA_DIR}/{DOMAIN}_traj.pdb\")"
   ]
  },
  {
   "cell_type": "code",
   "execution_count": 67,
   "id": "bbec32dc-f8b6-4774-aaf3-a1b218c7446a",
   "metadata": {},
   "outputs": [
    {
     "name": "stdout",
     "output_type": "stream",
     "text": [
      "foldseek structureto3didescriptor /mnt/home/ssledzieski/Projects/rocketshp/data/interim/1xwrB00_traj.pdb /mnt/home/ssledzieski/Projects/rocketshp/data/interim/1xwrB00_traj.3di\n"
     ]
    }
   ],
   "source": [
    "print(f\"foldseek structureto3didescriptor {config.INTERIM_DATA_DIR}/{DOMAIN}_traj.pdb {config.INTERIM_DATA_DIR}/{DOMAIN}_traj.3di\")"
   ]
  },
  {
   "cell_type": "code",
   "execution_count": 68,
   "id": "8ebce2eb-e03d-4f29-9de5-b972b6f5a6ae",
   "metadata": {},
   "outputs": [],
   "source": [
    "import pandas as pd"
   ]
  },
  {
   "cell_type": "code",
   "execution_count": 69,
   "id": "9da06535-b57a-4b3a-884e-9e007dde30f9",
   "metadata": {},
   "outputs": [],
   "source": [
    "df = pd.read_csv(\n",
    "    f\"{config.INTERIM_DATA_DIR}/{DOMAIN}_traj.3di\",\n",
    "    sep=\"\\t\", header=None, usecols=[1, 2],\n",
    "    names = [\"sequence\", \"3di\"]\n",
    ")"
   ]
  },
  {
   "cell_type": "code",
   "execution_count": 70,
   "id": "bcde2aad",
   "metadata": {},
   "outputs": [
    {
     "data": {
      "text/html": [
       "<div>\n",
       "<style scoped>\n",
       "    .dataframe tbody tr th:only-of-type {\n",
       "        vertical-align: middle;\n",
       "    }\n",
       "\n",
       "    .dataframe tbody tr th {\n",
       "        vertical-align: top;\n",
       "    }\n",
       "\n",
       "    .dataframe thead th {\n",
       "        text-align: right;\n",
       "    }\n",
       "</style>\n",
       "<table border=\"1\" class=\"dataframe\">\n",
       "  <thead>\n",
       "    <tr style=\"text-align: right;\">\n",
       "      <th></th>\n",
       "      <th>sequence</th>\n",
       "      <th>3di</th>\n",
       "    </tr>\n",
       "  </thead>\n",
       "  <tbody>\n",
       "    <tr>\n",
       "      <th>0</th>\n",
       "      <td>ANKRNEALRIESALLNKIAMLGTEKTAEAVGVDKSQISRWKRDWIP...</td>\n",
       "      <td>DVLLVVLVQQLVLVVVLCVLVPVVVVCVVVPHDPVCSCVCNPPVSS...</td>\n",
       "    </tr>\n",
       "    <tr>\n",
       "      <th>1</th>\n",
       "      <td>ANKRNEALRIESALLNKIAMLGTEKTAEAVGVDKSQISRWKRDWIP...</td>\n",
       "      <td>DVQQVVLVVQLVVVVVVCVLCDDVNCCPPVNDDVVCPVVCSVPVSS...</td>\n",
       "    </tr>\n",
       "    <tr>\n",
       "      <th>2</th>\n",
       "      <td>ANKRNEALRIESALLNKIAMLGTEKTAEAVGVDKSQISRWKRDWIP...</td>\n",
       "      <td>DPLVVQLVVALVVVVVVVVLCDDVNVCVVVVHDPVCVVVVNVPCSS...</td>\n",
       "    </tr>\n",
       "    <tr>\n",
       "      <th>3</th>\n",
       "      <td>ANKRNEALRIESALLNKIAMLGTEKTAEAVGVDKSQISRWKRDWIP...</td>\n",
       "      <td>DDQQVVLVQAQVVVLVVCVQVDQPVCCVPVVDHSVCSVVCVVPCRS...</td>\n",
       "    </tr>\n",
       "    <tr>\n",
       "      <th>4</th>\n",
       "      <td>ANKRNEALRIESALLNKIAMLGTEKTAEAVGVDKSQISRWKRDWIP...</td>\n",
       "      <td>DVLVVQLVQLLVVLVLVCVLCDDPSCCVPVVDDPVCVPVCNPPCSS...</td>\n",
       "    </tr>\n",
       "  </tbody>\n",
       "</table>\n",
       "</div>"
      ],
      "text/plain": [
       "                                            sequence  \\\n",
       "0  ANKRNEALRIESALLNKIAMLGTEKTAEAVGVDKSQISRWKRDWIP...   \n",
       "1  ANKRNEALRIESALLNKIAMLGTEKTAEAVGVDKSQISRWKRDWIP...   \n",
       "2  ANKRNEALRIESALLNKIAMLGTEKTAEAVGVDKSQISRWKRDWIP...   \n",
       "3  ANKRNEALRIESALLNKIAMLGTEKTAEAVGVDKSQISRWKRDWIP...   \n",
       "4  ANKRNEALRIESALLNKIAMLGTEKTAEAVGVDKSQISRWKRDWIP...   \n",
       "\n",
       "                                                 3di  \n",
       "0  DVLLVVLVQQLVLVVVLCVLVPVVVVCVVVPHDPVCSCVCNPPVSS...  \n",
       "1  DVQQVVLVVQLVVVVVVCVLCDDVNCCPPVNDDVVCPVVCSVPVSS...  \n",
       "2  DPLVVQLVVALVVVVVVVVLCDDVNVCVVVVHDPVCVVVVNVPCSS...  \n",
       "3  DDQQVVLVQAQVVVLVVCVQVDQPVCCVPVVDHSVCSVVCVVPCRS...  \n",
       "4  DVLVVQLVQLLVVLVLVCVLCDDPSCCVPVVDDPVCVPVCNPPCSS...  "
      ]
     },
     "execution_count": 70,
     "metadata": {},
     "output_type": "execute_result"
    }
   ],
   "source": [
    "df.head()"
   ]
  },
  {
   "cell_type": "code",
   "execution_count": 71,
   "id": "d52ab9e2-b6ff-409b-9f0f-b45573ee254c",
   "metadata": {},
   "outputs": [],
   "source": [
    "import nglview as nv\n",
    "import numpy as np\n",
    "import seaborn as sns\n",
    "from Bio.Align import MultipleSeqAlignment\n",
    "from Bio.Seq import Seq\n",
    "from Bio.SeqRecord import SeqRecord\n",
    "from matplotlib import pyplot as plt\n",
    "from scipy.stats import entropy"
   ]
  },
  {
   "cell_type": "code",
   "execution_count": 72,
   "id": "0e3c5926-d1c5-446e-a159-266daeed57a4",
   "metadata": {},
   "outputs": [],
   "source": [
    "seqrecs = [SeqRecord(Seq(r[\"3di\"]), id=f\"frame{i}\") for i,r in df.iterrows()]"
   ]
  },
  {
   "cell_type": "code",
   "execution_count": 73,
   "id": "d3a82aec-f922-474e-ad83-b55455e1cd28",
   "metadata": {},
   "outputs": [],
   "source": [
    "msa = MultipleSeqAlignment(seqrecs)"
   ]
  },
  {
   "cell_type": "code",
   "execution_count": 74,
   "id": "7f1746a5-fbb7-42e9-87c1-4ac4c1c1384c",
   "metadata": {},
   "outputs": [
    {
     "name": "stdout",
     "output_type": "stream",
     "text": [
      "[[0.         0.01555556 0.00222222 ... 0.         0.         0.        ]\n",
      " [0.         0.11333333 0.06222222 ... 0.         0.         0.        ]\n",
      " [1.         0.17777778 0.19111111 ... 0.45555556 0.48444444 1.        ]\n",
      " ...\n",
      " [0.         0.36888889 0.06888889 ... 0.07333333 0.04666667 0.        ]\n",
      " [0.         0.         0.         ... 0.         0.         0.        ]\n",
      " [0.         0.         0.         ... 0.         0.00444444 0.        ]]\n",
      "[0.         1.63532881 1.46672926 1.49424119 0.62546057 1.25565225\n",
      " 0.44463075 0.35845241 1.37326121 1.39405372 0.61823692 1.01703903\n",
      " 0.93984589 0.92014283 0.90328783 1.08478781 1.20132234 0.42152777\n",
      " 1.3188409  1.76013629 1.64606101 1.25171464 1.63739069 1.43754916\n",
      " 1.07261279 1.02383304 0.63617548 0.34181816 0.7793938  1.08167193\n",
      " 0.86578442 1.00641678 0.49649215 1.41413206 0.28979747 0.98635657\n",
      " 1.2991245  0.36877171 0.54932857 1.54982771 1.50716045 1.81121922\n",
      " 1.51095865 1.58898585 0.72390162 0.90285332 0.09803911 1.10883288\n",
      " 0.33743096 0.92236113 0.59861348 0.82910496 1.03361136 0.36007746\n",
      " 1.05608061 1.43627973 1.78980353 1.4452998  1.1129165  0.91527698\n",
      " 1.80162767 0.66191414 1.29734338 1.38865103 1.41264905 1.47370645\n",
      " 2.00742896 2.03744817 1.94340574 1.60548932 1.8610907  1.83087011\n",
      " 1.68746657 1.81147371 1.47472699 1.48039215 0.        ]\n",
      "(77,)\n"
     ]
    },
    {
     "data": {
      "image/png": "[encoded data removed]",
      "text/plain": [
       "<Figure size 640x480 with 1 Axes>"
      ]
     },
     "metadata": {},
     "output_type": "display_data"
    }
   ],
   "source": [
    "def pssm_to_numpy(pssm):\n",
    "    npm = []\n",
    "    for i, r in enumerate(pssm):\n",
    "        npm.append(list(r.values()))\n",
    "\n",
    "    return np.array(npm).T\n",
    "\n",
    "from Bio.motifs import Motif\n",
    "\n",
    "\n",
    "def msa_to_counts(msa):\n",
    "    alignment = msa.alignment\n",
    "    motif = Motif(alphabet=\"ACDEFGHIKLMNPQRSTVWY\", alignment=alignment)\n",
    "    counts = motif.counts\n",
    "    return np.array(list(counts.values()))\n",
    "\n",
    "npm = msa_to_counts(msa)\n",
    "pssm_dist = npm / npm.sum(0)\n",
    "pssm_ent = entropy(pssm_dist)\n",
    "\n",
    "print(pssm_dist)\n",
    "print(pssm_ent)\n",
    "print(pssm_ent.shape)\n",
    "\n",
    "plt.bar(np.arange(npm.shape[1]), pssm_ent)\n",
    "plt.title(DOMAIN)\n",
    "sns.despine()\n",
    "# plt.savefig(Path(align_3di).with_suffix(\".entropy.png\"))\n",
    "# np.save(Path(align_3di).with_suffix(\".entropy.npy\"), pssm_ent)"
   ]
  },
  {
   "cell_type": "code",
   "execution_count": 75,
   "id": "3513410a-203b-4015-9b7c-928c67c0d501",
   "metadata": {},
   "outputs": [],
   "source": [
    "def minmax(v):\n",
    "    return (v - v.min()) / (v.max() - v.min())"
   ]
  },
  {
   "cell_type": "code",
   "execution_count": 76,
   "id": "a8ee0e07-45ec-447b-9ada-91c136c89f5b",
   "metadata": {},
   "outputs": [],
   "source": [
    "normalized_entropy = minmax(pssm_ent)"
   ]
  },
  {
   "cell_type": "code",
   "execution_count": 77,
   "id": "0d46132a-74f3-4f39-924f-28202c0054b8",
   "metadata": {},
   "outputs": [
    {
     "data": {
      "text/plain": [
       "array([0.        , 0.80263579, 0.71988544, 0.73338857, 0.30698232,\n",
       "       0.61628672, 0.21822923, 0.17593204, 0.67401038, 0.68421555,\n",
       "       0.30343688, 0.49917296, 0.46128579, 0.45161533, 0.44334273,\n",
       "       0.53242474, 0.58962105, 0.20689006, 0.64730034, 0.86389255,\n",
       "       0.80790325, 0.6143541 , 0.80364778, 0.70556355, 0.52644912,\n",
       "       0.50250753, 0.31224131, 0.16776778, 0.3825343 , 0.53089543,\n",
       "       0.42493568, 0.49395945, 0.24368333, 0.6940702 , 0.14223551,\n",
       "       0.4841137 , 0.63762333, 0.18099685, 0.26961597, 0.76067099,\n",
       "       0.73972947, 0.88896456, 0.74159366, 0.7798902 , 0.35529818,\n",
       "       0.44312947, 0.04811858, 0.5442263 , 0.1656145 , 0.4527041 ,\n",
       "       0.2938055 , 0.40693303, 0.50730682, 0.17672963, 0.51833496,\n",
       "       0.7049405 , 0.87845353, 0.70936764, 0.54623058, 0.44922712,\n",
       "       0.88425693, 0.3248741 , 0.63674914, 0.68156386, 0.69334232,\n",
       "       0.72330991, 0.98526627, 1.        , 0.95384303, 0.78799027,\n",
       "       0.91344199, 0.89860942, 0.82822552, 0.88908947, 0.7238108 ,\n",
       "       0.72659132, 0.        ])"
      ]
     },
     "execution_count": 77,
     "metadata": {},
     "output_type": "execute_result"
    }
   ],
   "source": [
    "normalized_entropy"
   ]
  },
  {
   "cell_type": "code",
   "execution_count": 78,
   "id": "6cc4d31c-d26d-4620-a372-0ad4c5e5a00a",
   "metadata": {},
   "outputs": [],
   "source": [
    "traj_sp = traj.superpose(traj[0])"
   ]
  },
  {
   "cell_type": "code",
   "execution_count": 79,
   "id": "d55bb11a-c5cd-4612-9563-2e170448c510",
   "metadata": {},
   "outputs": [],
   "source": [
    "import matplotlib as mpl\n",
    "\n",
    "cmap = mpl.colormaps['inferno']"
   ]
  },
  {
   "cell_type": "code",
   "execution_count": 80,
   "id": "c58c30fe-6a3e-4c94-8ebf-67bae9427ba3",
   "metadata": {},
   "outputs": [],
   "source": [
    "def get_residue_numbering(traj):\n",
    "    return [i.resSeq for i in traj._topology._residues]"
   ]
  },
  {
   "cell_type": "code",
   "execution_count": 81,
   "id": "0c2d0515-409a-4312-9ea6-b9e17f4596f0",
   "metadata": {},
   "outputs": [],
   "source": [
    "def build_selection_scheme(residue_numbering, color_factor, cm):\n",
    "    assert len(residue_numbering) == len(color_factor)\n",
    "\n",
    "    schema = []\n",
    "    for rn, cf in zip(residue_numbering, color_factor):\n",
    "        schema.append([mpl.colors.to_hex(cm(cf)), str(rn)])\n",
    "\n",
    "    return schema\n"
   ]
  },
  {
   "cell_type": "code",
   "execution_count": 82,
   "id": "df4301fb-f29a-4219-ac4a-3b0f034280da",
   "metadata": {
    "scrolled": true
   },
   "outputs": [
    {
     "data": {
      "application/vnd.jupyter.widget-view+json": {
       "model_id": "cf2ef787ba38441f9f9669c6d775a0d1",
       "version_major": 2,
       "version_minor": 0
      },
      "text/plain": [
       "NGLWidget(max_frame=449)"
      ]
     },
     "metadata": {},
     "output_type": "display_data"
    }
   ],
   "source": [
    "from nglview.color import ColormakerRegistry\n",
    "\n",
    "cm = ColormakerRegistry\n",
    "# cm.add_selection_scheme('entropy', [['#fffccc', '17-35'], ['red', '36-86']])\n",
    "cm.add_selection_scheme('entropy', build_selection_scheme(get_residue_numbering(traj), normalized_entropy, mpl.colormaps['inferno']))\n",
    "\n",
    "view = nv.show_mdtraj(traj_sp,default=False)\n",
    "view.center()\n",
    "# view.add_representation('surface', component=2, color='awesome')\n",
    "view.add_cartoon(color='entropy')\n",
    "view"
   ]
  },
  {
   "cell_type": "code",
   "execution_count": null,
   "id": "5c65ada4-ae97-4af2-a829-f4821eaa04e7",
   "metadata": {},
   "outputs": [],
   "source": []
  }
 ],
 "metadata": {
  "kernelspec": {
   "display_name": "rocketshp",
   "language": "python",
   "name": "python3"
  },
  "language_info": {
   "codemirror_mode": {
    "name": "ipython",
    "version": 3
   },
   "file_extension": ".py",
   "mimetype": "text/x-python",
   "name": "python",
   "nbconvert_exporter": "python",
   "pygments_lexer": "ipython3",
   "version": "3.11.10"
  }
 },
 "nbformat": 4,
 "nbformat_minor": 5
}
